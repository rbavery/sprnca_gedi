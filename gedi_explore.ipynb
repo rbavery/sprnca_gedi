{
 "cells": [
  {
   "cell_type": "markdown",
   "metadata": {},
   "source": [
    "Project Description\n",
    "\n",
    "Objective: Use the GEDI L2B product to classify the San Pedro Riparian National Conservation Area (SPRNCA) by Foliage Height Diversity (FHD). \n",
    "\n",
    "FHD is an important metric for estimating ecological diversity and habitat suitability. Bird species are particularly sensitive in their habitat selection to vertical structure characteristics and the SPRNCA is an internationally recognized habitat zone for migratory and wintering birds. Zones would be classified using unsupervised techniques such as Agglomerative Clustering or DBSCAN. Once regions are classified,  I can evaluate present day trends in water stress over the different FHD classes to evaluate if parts of the corridor that are well suited for sensitive species habitat are particularly susceptible to water stress. To measure water stress, I will use either the ECOSTRESS Evaporative Stress Index (ESI) or EEflux’s METRIC based ET product coupled with ERA5’s PET estimate, depending on data availability. The primary outputs of this project will be maps classifying SPRNCA by FHD and time series plots and maps of the ESI for each FHD class.\n",
    "\n",
    "The GEDI L2B product has an average spatial footprint of 25 meters and there are ~ 220 observations covering the SPRNCA corridor (I still need to determine how well this time series covers the SPRNCA). So this analysis would be limited to portions of the SPRNCA that have a riparian corridor wider than 25 meters. I also have near daily cloud masks from this area derived from Planet Labs imagery that I will use to filter the L2B and ESI products."
   ]
  },
  {
   "cell_type": "markdown",
   "metadata": {},
   "source": [
    "## Notes\n",
    "\n",
    "GEDI data come in groups, and xarray can only read one at a time.\n",
    "\n",
    "Quality FAQ with suggestions are here: https://lpdaac.usgs.gov/documents/589/GEDIL02_User_Guide_V1.pdf\n",
    "\n",
    "conda install pyinterp -c conda-forge possible option for interpolation as it supports unstructured grids, 3D\n",
    "\n",
    "this tweet has useful info on which beams use full power\n",
    "https://twitter.com/GEDI_Knights/status/1228203192803966990\n",
    "\n",
    "- BEAM0000 (ID 0) = Coverage\n",
    "- BEAM0001 (ID 1) = Coverage\n",
    "- BEAM0010 (ID 2) = Coverage\n",
    "- BEAM0011 (ID 3) = Coverage\n",
    "- BEAM0101 (ID 5) = Power\n",
    "- BEAM0110 (ID 6) = Power\n",
    "- BEAM1000 (ID 8) = Power\n",
    "- BEAM1011 (ID 11) = Power\n",
    "\n",
    "Interpretation of L2A Quality Flag\n",
    "In order to provide end users with the ability to easily remove erroneous and/or\n",
    "lower quality returns, we provide a quality_flag. This is a summation of several\n",
    "individual quality assessment parameters and is intended to provide general\n",
    "guidance only. A quality_flag value of 1 indicates the laser shot meets criteria\n",
    "based on energy, sensitivity, amplitude, and real-time surface tracking quality.\n",
    "Interpretation of L2B Quality Flag\n",
    "\n",
    "In order to provide end users with the ability to easily remove erroneous and/or\n",
    "lower quality returns, and returns not corresponding to the land surface, we\n",
    "provide a quality_flag based on the outputs of the selected L2A algorithm\n",
    "settings group. Results are available for every shot with a valid waveform, but\n",
    "sometimes these results are not directly meaningful, such as vertical profile\n",
    "metrics over the ocean.\n",
    "\n",
    "As done for L2A, quality_flag is a summation of several individual quality\n",
    "assessment parameters and other flags and is intended to provide general\n",
    "guidance only. A quality_flag value of 1 indicates the cover and vertical profile\n",
    "metrics represent the land surface and meet criteria based on waveform shot\n",
    "energy, sensitivity, amplitude, and real-time surface track\n"
   ]
  },
  {
   "cell_type": "code",
   "execution_count": 1,
   "metadata": {},
   "outputs": [],
   "source": [
    "#!bash gedi_to_vector.sh # for generating shp files from h5 files"
   ]
  },
  {
   "cell_type": "code",
   "execution_count": 1,
   "metadata": {},
   "outputs": [],
   "source": [
    "import geopandas as gpd\n",
    "import pandas as pd\n",
    "import xarray as xr\n",
    "import rioxarray as rx\n",
    "import numpy as np\n",
    "from pathlib import Path\n",
    "import matplotlib.pyplot as plt\n",
    "from pygedi.clean_shps import *\n",
    "import dask"
   ]
  },
  {
   "cell_type": "markdown",
   "metadata": {},
   "source": [
    "Below is being edited for returning height profile metrics"
   ]
  },
  {
   "cell_type": "code",
   "execution_count": null,
   "metadata": {},
   "outputs": [],
   "source": [
    "# file=\n",
    "# variables=\n",
    "# # open hdf5 file\n",
    "# data = h5py.File(file,'r')\n",
    "\n",
    "# # get full file name and extension\n",
    "# name,_ = os.path.splitext(file)\n",
    "\n",
    "# # create empty dataframe to append data to\n",
    "# df = pd.DataFrame()\n",
    "\n",
    "# # canopy height variables with a height dimension as well as time, lat, and lon\n",
    "# height_dim_vars = [\"cover_z\", \"pai_z\", \"paivd_z\"]\n",
    "\n",
    "# # loop over all of the hdf5 groups\n",
    "# for k in list(data.keys()):\n",
    "#     # if BEAM in the group name\n",
    "#     if 'BEAM' in k:\n",
    "\n",
    "#         # get the geolocation subgroup\n",
    "#         geo = data[k]['geolocation']\n",
    "#         # landcover subgroup\n",
    "#         land_cover = data[k]['land_cover']\n",
    "#         # dz from ancillary subgroup for vars with height dim\n",
    "#         dz = data[k]['ancillary']['dz']\n",
    "\n",
    "#         d = {}\n",
    "#         # loop through all of the variables defined earlier\n",
    "#         for var in variables:\n",
    "#             # assign variable array to dict key\n",
    "#             if var in list(data[k][\"geolocation\"].keys()):\n",
    "#                 d[var] = np.array(geo[var])\n",
    "#             elif var in list(data[k].keys()): # changed, need to make a height column in df and maybe seperate for loop for each pai_z type?\n",
    "#                 if var not in height_dim_vars:\n",
    "#                     d[var] = np.array(data[k][var])\n",
    "#                 else:\n",
    "#                     height_profile = np.array(data[k][var])\n",
    "#                     for z in height_profile:\n",
    "#                         d[var] = z\n",
    "#             elif var in list(data[k][\"land_cover_data\"].keys()):\n",
    "#                 d[var] = np.array(land_cover[var])\n",
    "#             else:\n",
    "#                 raise ValueError(f\"The variable {var} is not in the geolocation or BEAM group of the file {file}.\")\n",
    "#         d[\"BEAM\"] = [k] * len(d[var])\n",
    "#         # convert dict of varaibles to dataframe\n",
    "#         tdf = pd.DataFrame(d)\n",
    "#         # concat to larger dataframe\n",
    "#         df = pd.concat([df,tdf],axis=0,sort=False)"
   ]
  },
  {
   "cell_type": "code",
   "execution_count": 2,
   "metadata": {},
   "outputs": [],
   "source": [
    "Path(\"data/processed/all_samples.gpkg\").exists()\n",
    "\n",
    "shps = list(Path(\"data/processed\").glob(\"GEDI*.shp\"))\n",
    "\n",
    "if Path(\"data/processed/all_samples.gpkg\").exists() == False:\n",
    "    gdfs = []\n",
    "    for path in shps:\n",
    "        print(path)\n",
    "        gdf = preprocess_gedi_gdf(path)\n",
    "\n",
    "        gdfs.append(gdf)\n",
    "\n",
    "    all_samples_df = pd.concat(gdfs)\n",
    "    all_samples_df.to_file(\"data/processed/all_samples.gpkg\", driver=\"GPKG\")\n",
    "else:\n",
    "    all_samples_df = gpd.read_file(\"data/processed/all_samples.gpkg\", index_col=\"delta_time\")\n",
    "\n",
    "san_pedro = gpd.read_file(\"data/site_vectors/OSM_SanPedro.shp\")\n",
    "san_pedro_riparian_corridor = gpd.read_file(\"data/site_vectors/SPRNCA_bound_wgs84.shp\")\n",
    "fth_wetlands = gpd.read_file(\"data/site_vectors/FtHua_wetlands.shp\")\n",
    "\n",
    "# the SPRNCA bound file is about 8000m wide but not uniform so this is a uniform buffer at it's widest distance\n",
    "buffered_river_8000m = san_pedro.to_crs(32612).buffer(1000).to_crs(4326)\n",
    "\n",
    "all_samples_df.crs = buffered_river_8000m.crs # defines the crs of the GEDI samples as 4326\n",
    "\n",
    "intersects_riparian_mask = all_samples_df.intersects(buffered_river_8000m.unary_union)\n",
    "\n",
    "riparian_df = all_samples_df[intersects_riparian_mask]"
   ]
  },
  {
   "cell_type": "code",
   "execution_count": 3,
   "metadata": {},
   "outputs": [
    {
     "name": "stderr",
     "output_type": "stream",
     "text": [
      "/home/rave/miniconda3/envs/geo/lib/python3.6/site-packages/ipykernel_launcher.py:1: SettingWithCopyWarning: \n",
      "A value is trying to be set on a copy of a slice from a DataFrame.\n",
      "Try using .loc[row_indexer,col_indexer] = value instead\n",
      "\n",
      "See the caveats in the documentation: https://pandas.pydata.org/pandas-docs/stable/user_guide/indexing.html#returning-a-view-versus-a-copy\n",
      "  \"\"\"Entry point for launching an IPython kernel.\n"
     ]
    }
   ],
   "source": [
    "riparian_df['fid'] = riparian_df.name.str[9:22]"
   ]
  },
  {
   "cell_type": "code",
   "execution_count": 4,
   "metadata": {},
   "outputs": [],
   "source": [
    "mil_bounds = gpd.read_file(\"data/site_vectors/hua_military_boundaries.shp\")\n",
    "main_base = mil_bounds.explode()[mil_bounds.explode().area > .03]\n",
    "watershed = gpd.read_file(\"data/site_vectors/wbdhu6_spw.shp\")\n",
    "flow_perm = gpd.read_file(\"data/site_vectors/flow_permanence_SanPedro.shp\")\n",
    "hua_fields = gpd.read_file(\"data/site_vectors/huachuca_field_polys.shp\")"
   ]
  },
  {
   "cell_type": "code",
   "execution_count": 5,
   "metadata": {},
   "outputs": [
    {
     "data": {
      "image/png": "[encoded data removed]",
      "text/plain": [
       "<Figure size 576x1008 with 1 Axes>"
      ]
     },
     "metadata": {},
     "output_type": "display_data"
    }
   ],
   "source": [
    "plt.style.use(\"ggplot\")\n",
    "fig, ax = plt.subplots(figsize=(8,14))\n",
    "riparian_df.plot(ax=ax, alpha=.5, column=\"fid\", legend=True)\n",
    "san_pedro.plot(ax=ax, color=\"darkblue\", label = \"San Pedro River\")\n",
    "san_pedro_riparian_corridor.plot(ax=ax, color = \"red\", alpha=.5, label= \"SPRNCA Boundary\")\n",
    "fth_wetlands.to_crs(4326).plot(ax=ax, color = \"purple\", label= \"Fort Huachuca Wetlands\")\n",
    "watershed.plot(ax=ax, facecolor=\"none\", edgecolor = \"black\", label= \"Watershed Boundaries\")\n",
    "main_base.plot(ax=ax, color = \"orange\", label= \"Fort Huachuca Boundary\")\n",
    "plt.title(\"GEDI Samples within 1000 Meters of the San Pedro River\", fontsize = 16)\n",
    "ax.set_xlim(-110.6, -109.9)\n",
    "ax.set_ylim(31.2, 32.2)\n",
    "x, y, arrow_length = .93, .13, 0.1\n",
    "ax.annotate('N', xy=(x, y), xytext=(x, y-arrow_length),\n",
    "            arrowprops=dict(facecolor='black', width=5, headwidth=15),\n",
    "            ha='center', va='center', fontsize=20,\n",
    "            xycoords=ax.transAxes)\n",
    "# plt.tight_layout()\n",
    "plt.savefig(\"figs/SPRNCA_and_GEDI.png\")"
   ]
  },
  {
   "cell_type": "code",
   "execution_count": 6,
   "metadata": {},
   "outputs": [],
   "source": [
    "riparian_df_utm = riparian_df.to_crs(32612)\n",
    "san_pedro_utm = san_pedro.to_crs(32612)"
   ]
  },
  {
   "cell_type": "code",
   "execution_count": 7,
   "metadata": {},
   "outputs": [],
   "source": [
    "riparian_df_utm[\"distance_to_channel\"] = riparian_df_utm['geometry'].distance(san_pedro_utm['geometry'].unary_union)"
   ]
  },
  {
   "cell_type": "code",
   "execution_count": 8,
   "metadata": {},
   "outputs": [
    {
     "data": {
      "text/plain": [
       "<matplotlib.axes._subplots.AxesSubplot at 0x7fb53d89ff60>"
      ]
     },
     "execution_count": 8,
     "metadata": {},
     "output_type": "execute_result"
    },
    {
     "data": {
      "image/png": "[encoded data removed]",
      "text/plain": [
       "<Figure size 432x288 with 1 Axes>"
      ]
     },
     "metadata": {},
     "output_type": "display_data"
    }
   ],
   "source": [
    "riparian_df_utm['distance_to_channel'].plot.hist()"
   ]
  },
  {
   "cell_type": "code",
   "execution_count": 9,
   "metadata": {},
   "outputs": [
    {
     "data": {
      "text/plain": [
       "Text(0.5, 1.0, 'Foliage Height Diversity Histogram for all points')"
      ]
     },
     "execution_count": 9,
     "metadata": {},
     "output_type": "execute_result"
    },
    {
     "data": {
      "image/png": "[encoded data removed]",
      "text/plain": [
       "<Figure size 432x288 with 1 Axes>"
      ]
     },
     "metadata": {},
     "output_type": "display_data"
    }
   ],
   "source": [
    "riparian_df_utm[\"fhd_normal\"].plot.hist(bins=50)\n",
    "plt.title(\"Foliage Height Diversity Histogram for all points\")"
   ]
  },
  {
   "cell_type": "code",
   "execution_count": 10,
   "metadata": {},
   "outputs": [
    {
     "data": {
      "text/plain": [
       "Text(0.5, 1.0, 'Plant Area Index for all points')"
      ]
     },
     "execution_count": 10,
     "metadata": {},
     "output_type": "execute_result"
    },
    {
     "data": {
      "image/png": "[encoded data removed]",
      "text/plain": [
       "<Figure size 432x288 with 1 Axes>"
      ]
     },
     "metadata": {},
     "output_type": "display_data"
    }
   ],
   "source": [
    "riparian_df_utm[\"pai\"].plot.hist(bins=30)\n",
    "plt.title(\"Plant Area Index for all points\")"
   ]
  },
  {
   "cell_type": "code",
   "execution_count": 11,
   "metadata": {},
   "outputs": [
    {
     "data": {
      "text/html": [
       "\n",
       "<div id=\"altair-viz-6ddfc1a1970b4816a9a7fa934aebb9bb\"></div>\n",
       "<script type=\"text/javascript\">\n",
       "  (function(spec, embedOpt){\n",
       "    const outputDiv = document.getElementById(\"altair-viz-6ddfc1a1970b4816a9a7fa934aebb9bb\");\n",
       "    const paths = {\n",
       "      \"vega\": \"https://cdn.jsdelivr.net/npm//vega@5?noext\",\n",
       "      \"vega-lib\": \"https://cdn.jsdelivr.net/npm//vega-lib?noext\",\n",
       "      \"vega-lite\": \"https://cdn.jsdelivr.net/npm//vega-lite@4.0.2?noext\",\n",
       "      \"vega-embed\": \"https://cdn.jsdelivr.net/npm//vega-embed@6?noext\",\n",
       "    };\n",
       "\n",
       "    function loadScript(lib) {\n",
       "      return new Promise(function(resolve, reject) {\n",
       "        var s = document.createElement('script');\n",
       "        s.src = paths[lib];\n",
       "        s.async = true;\n",
       "        s.onload = () => resolve(paths[lib]);\n",
       "        s.onerror = () => reject(`Error loading script: ${paths[lib]}`);\n",
       "        document.getElementsByTagName(\"head\")[0].appendChild(s);\n",
       "      });\n",
       "    }\n",
       "\n",
       "    function showError(err) {\n",
       "      outputDiv.innerHTML = `<div class=\"error\" style=\"color:red;\">${err}</div>`;\n",
       "      throw err;\n",
       "    }\n",
       "\n",
       "    function displayChart(vegaEmbed) {\n",
       "      vegaEmbed(outputDiv, spec, embedOpt)\n",
       "        .catch(err => showError(`Javascript Error: ${err.message}<br>This usually means there's a typo in your chart specification. See the javascript console for the full traceback.`));\n",
       "    }\n",
       "\n",
       "    if(typeof define === \"function\" && define.amd) {\n",
       "      requirejs.config({paths});\n",
       "      require([\"vega-embed\"], displayChart, err => showError(`Error loading script: ${err.message}`));\n",
       "    } else if (typeof vegaEmbed === \"function\") {\n",
       "      displayChart(vegaEmbed);\n",
       "    } else {\n",
       "      loadScript(\"vega\")\n",
       "        .then(() => loadScript(\"vega-lite\"))\n",
       "        .then(() => loadScript(\"vega-embed\"))\n",
       "        .catch(showError)\n",
       "        .then(() => displayChart(vegaEmbed));\n",
       "    }\n",
       "  })({\"config\": {\"view\": {\"continuousWidth\": 400, \"continuousHeight\": 300}}, \"data\": {\"url\": \"altair-data-e958773a32d4573c79760693b1e501ca.json\", \"format\": {\"type\": \"json\"}}, \"mark\": \"point\", \"encoding\": {\"color\": {\"type\": \"nominal\", \"field\": \"fid\"}, \"x\": {\"type\": \"quantitative\", \"field\": \"distance_to_channel\"}, \"y\": {\"type\": \"quantitative\", \"field\": \"fhd_normal\"}}, \"$schema\": \"https://vega.github.io/schema/vega-lite/v4.0.2.json\"}, {\"mode\": \"vega-lite\"});\n",
       "</script>"
      ],
      "text/plain": [
       "alt.Chart(...)"
      ]
     },
     "execution_count": 11,
     "metadata": {},
     "output_type": "execute_result"
    }
   ],
   "source": [
    "import altair as alt\n",
    "alt.data_transformers.enable('json')\n",
    "alt.Chart(riparian_df_utm).mark_point().encode(\n",
    "    x='distance_to_channel',\n",
    "    y='fhd_normal',\n",
    "    color=\"fid\"\n",
    ")"
   ]
  },
  {
   "cell_type": "code",
   "execution_count": 57,
   "metadata": {},
   "outputs": [
    {
     "data": {
      "text/html": [
       "\n",
       "<div id=\"altair-viz-a65e1a5994044e0dbeb2114c02a674a0\"></div>\n",
       "<script type=\"text/javascript\">\n",
       "  (function(spec, embedOpt){\n",
       "    const outputDiv = document.getElementById(\"altair-viz-a65e1a5994044e0dbeb2114c02a674a0\");\n",
       "    const paths = {\n",
       "      \"vega\": \"https://cdn.jsdelivr.net/npm//vega@5?noext\",\n",
       "      \"vega-lib\": \"https://cdn.jsdelivr.net/npm//vega-lib?noext\",\n",
       "      \"vega-lite\": \"https://cdn.jsdelivr.net/npm//vega-lite@4.0.2?noext\",\n",
       "      \"vega-embed\": \"https://cdn.jsdelivr.net/npm//vega-embed@6?noext\",\n",
       "    };\n",
       "\n",
       "    function loadScript(lib) {\n",
       "      return new Promise(function(resolve, reject) {\n",
       "        var s = document.createElement('script');\n",
       "        s.src = paths[lib];\n",
       "        s.async = true;\n",
       "        s.onload = () => resolve(paths[lib]);\n",
       "        s.onerror = () => reject(`Error loading script: ${paths[lib]}`);\n",
       "        document.getElementsByTagName(\"head\")[0].appendChild(s);\n",
       "      });\n",
       "    }\n",
       "\n",
       "    function showError(err) {\n",
       "      outputDiv.innerHTML = `<div class=\"error\" style=\"color:red;\">${err}</div>`;\n",
       "      throw err;\n",
       "    }\n",
       "\n",
       "    function displayChart(vegaEmbed) {\n",
       "      vegaEmbed(outputDiv, spec, embedOpt)\n",
       "        .catch(err => showError(`Javascript Error: ${err.message}<br>This usually means there's a typo in your chart specification. See the javascript console for the full traceback.`));\n",
       "    }\n",
       "\n",
       "    if(typeof define === \"function\" && define.amd) {\n",
       "      requirejs.config({paths});\n",
       "      require([\"vega-embed\"], displayChart, err => showError(`Error loading script: ${err.message}`));\n",
       "    } else if (typeof vegaEmbed === \"function\") {\n",
       "      displayChart(vegaEmbed);\n",
       "    } else {\n",
       "      loadScript(\"vega\")\n",
       "        .then(() => loadScript(\"vega-lite\"))\n",
       "        .then(() => loadScript(\"vega-embed\"))\n",
       "        .catch(showError)\n",
       "        .then(() => displayChart(vegaEmbed));\n",
       "    }\n",
       "  })({\"config\": {\"view\": {\"continuousWidth\": 400, \"continuousHeight\": 300}}, \"hconcat\": [{\"mark\": \"tick\", \"encoding\": {\"color\": {\"condition\": {\"type\": \"nominal\", \"field\": \"fid\", \"selection\": \"selector005\"}, \"value\": \"lightgrey\"}, \"x\": {\"type\": \"nominal\", \"axis\": {\"domain\": false, \"labels\": false, \"ticks\": false}, \"field\": \"fid\", \"title\": \"\"}, \"y\": {\"type\": \"quantitative\", \"axis\": {\"domain\": false, \"labels\": false, \"ticks\": false}, \"field\": \"fhd_normal\"}}, \"selection\": {\"selector005\": {\"type\": \"interval\"}}}, {\"vconcat\": [{\"mark\": \"point\", \"encoding\": {\"color\": {\"condition\": {\"type\": \"nominal\", \"field\": \"fid\", \"selection\": \"selector005\"}, \"value\": \"grey\"}, \"x\": {\"type\": \"quantitative\", \"field\": \"distance_to_channel\", \"title\": \"Distance to Channel in Meters\"}, \"y\": {\"type\": \"quantitative\", \"field\": \"fhd_normal\", \"title\": \"Foliage Height Diversity (Shannon Entropy)\"}}, \"selection\": {\"selector005\": {\"type\": \"interval\"}}}, {\"mark\": \"tick\", \"encoding\": {\"color\": {\"condition\": {\"type\": \"nominal\", \"field\": \"fid\", \"selection\": \"selector005\"}, \"value\": \"lightgrey\"}, \"x\": {\"type\": \"quantitative\", \"axis\": {\"domain\": false, \"labels\": false, \"ticks\": false}, \"field\": \"distance_to_channel\"}, \"y\": {\"type\": \"nominal\", \"axis\": {\"domain\": false, \"labels\": false, \"ticks\": false}, \"field\": \"fid\", \"title\": \"\"}}, \"selection\": {\"selector005\": {\"type\": \"interval\"}}}]}], \"data\": {\"url\": \"altair-data-e958773a32d4573c79760693b1e501ca.json\", \"format\": {\"type\": \"json\"}}, \"$schema\": \"https://vega.github.io/schema/vega-lite/v4.0.2.json\"}, {\"mode\": \"vega-lite\"});\n",
       "</script>"
      ],
      "text/plain": [
       "alt.HConcatChart(...)"
      ]
     },
     "execution_count": 57,
     "metadata": {},
     "output_type": "execute_result"
    }
   ],
   "source": [
    "brush = alt.selection(type='interval')\n",
    "base = alt.Chart(riparian_df_utm).add_selection(brush)\n",
    "\n",
    "# Configure the points\n",
    "points = base.mark_point().encode(\n",
    "    x=alt.X('distance_to_channel', title='Distance to Channel in Meters'),\n",
    "    y=alt.Y('fhd_normal', title='Foliage Height Diversity (Shannon Entropy)'),\n",
    "    color=alt.condition(brush, \"fid\", alt.value('grey'))\n",
    ")\n",
    "\n",
    "# Configure the ticks\n",
    "tick_axis = alt.Axis(labels=False, domain=False, ticks=False)\n",
    "\n",
    "x_ticks = base.mark_tick().encode(\n",
    "    alt.X('distance_to_channel', axis=tick_axis),\n",
    "    alt.Y(\"fid\", title='', axis=tick_axis),\n",
    "    color=alt.condition(brush, \"fid\", alt.value('lightgrey'))\n",
    ")\n",
    "\n",
    "y_ticks = base.mark_tick().encode(\n",
    "    alt.X(\"fid\", title='', axis=tick_axis),\n",
    "    alt.Y('fhd_normal', axis=tick_axis),\n",
    "    color=alt.condition(brush, \"fid\", alt.value('lightgrey'))\n",
    ")\n",
    "\n",
    "# Build the chart\n",
    "y_ticks | (points & x_ticks)\n",
    "\n",
    "base.save('chart.png')"
   ]
  },
  {
   "cell_type": "code",
   "execution_count": 14,
   "metadata": {},
   "outputs": [],
   "source": [
    "brush = alt.selection(type='interval')\n",
    "base = alt.Chart(riparian_df_utm).add_selection(brush)\n",
    "\n",
    "# Configure the points\n",
    "points = base.mark_point().encode(\n",
    "    x=alt.X('distance_to_channel', title='Distance to Channel in Meters'),\n",
    "    y=alt.Y('pai', title='Plant Area Index'),\n",
    "    color=alt.condition(brush, \"fid\", alt.value('grey'))\n",
    ")\n",
    "\n",
    "# Configure the ticks\n",
    "tick_axis = alt.Axis(labels=False, domain=False, ticks=False)\n",
    "\n",
    "x_ticks = base.mark_tick().encode(\n",
    "    alt.X('distance_to_channel', axis=tick_axis),\n",
    "    alt.Y(\"fid\", title='', axis=tick_axis),\n",
    "    color=alt.condition(brush, \"fid\", alt.value('lightgrey'))\n",
    ")\n",
    "\n",
    "y_ticks = base.mark_tick().encode(\n",
    "    alt.X(\"fid\", title='', axis=tick_axis),\n",
    "    alt.Y('pai', axis=tick_axis),\n",
    "    color=alt.condition(brush, \"fid\", alt.value('lightgrey'))\n",
    ")\n",
    "\n",
    "# Build the chart\n",
    "x = y_ticks | (points & x_ticks)"
   ]
  },
  {
   "cell_type": "code",
   "execution_count": 15,
   "metadata": {},
   "outputs": [
    {
     "data": {
      "text/html": [
       "\n",
       "<div id=\"altair-viz-9e984137d98849dcae3e68e82a38ad40\"></div>\n",
       "<script type=\"text/javascript\">\n",
       "  (function(spec, embedOpt){\n",
       "    const outputDiv = document.getElementById(\"altair-viz-9e984137d98849dcae3e68e82a38ad40\");\n",
       "    const paths = {\n",
       "      \"vega\": \"https://cdn.jsdelivr.net/npm//vega@5?noext\",\n",
       "      \"vega-lib\": \"https://cdn.jsdelivr.net/npm//vega-lib?noext\",\n",
       "      \"vega-lite\": \"https://cdn.jsdelivr.net/npm//vega-lite@4.0.2?noext\",\n",
       "      \"vega-embed\": \"https://cdn.jsdelivr.net/npm//vega-embed@6?noext\",\n",
       "    };\n",
       "\n",
       "    function loadScript(lib) {\n",
       "      return new Promise(function(resolve, reject) {\n",
       "        var s = document.createElement('script');\n",
       "        s.src = paths[lib];\n",
       "        s.async = true;\n",
       "        s.onload = () => resolve(paths[lib]);\n",
       "        s.onerror = () => reject(`Error loading script: ${paths[lib]}`);\n",
       "        document.getElementsByTagName(\"head\")[0].appendChild(s);\n",
       "      });\n",
       "    }\n",
       "\n",
       "    function showError(err) {\n",
       "      outputDiv.innerHTML = `<div class=\"error\" style=\"color:red;\">${err}</div>`;\n",
       "      throw err;\n",
       "    }\n",
       "\n",
       "    function displayChart(vegaEmbed) {\n",
       "      vegaEmbed(outputDiv, spec, embedOpt)\n",
       "        .catch(err => showError(`Javascript Error: ${err.message}<br>This usually means there's a typo in your chart specification. See the javascript console for the full traceback.`));\n",
       "    }\n",
       "\n",
       "    if(typeof define === \"function\" && define.amd) {\n",
       "      requirejs.config({paths});\n",
       "      require([\"vega-embed\"], displayChart, err => showError(`Error loading script: ${err.message}`));\n",
       "    } else if (typeof vegaEmbed === \"function\") {\n",
       "      displayChart(vegaEmbed);\n",
       "    } else {\n",
       "      loadScript(\"vega\")\n",
       "        .then(() => loadScript(\"vega-lite\"))\n",
       "        .then(() => loadScript(\"vega-embed\"))\n",
       "        .catch(showError)\n",
       "        .then(() => displayChart(vegaEmbed));\n",
       "    }\n",
       "  })({\"config\": {\"view\": {\"continuousWidth\": 400, \"continuousHeight\": 300}}, \"hconcat\": [{\"mark\": \"tick\", \"encoding\": {\"color\": {\"condition\": {\"type\": \"nominal\", \"field\": \"fid\", \"selection\": \"selector003\"}, \"value\": \"lightgrey\"}, \"x\": {\"type\": \"nominal\", \"axis\": {\"domain\": false, \"labels\": false, \"ticks\": false}, \"field\": \"fid\", \"title\": \"\"}, \"y\": {\"type\": \"quantitative\", \"axis\": {\"domain\": false, \"labels\": false, \"ticks\": false}, \"field\": \"pai\"}}, \"selection\": {\"selector003\": {\"type\": \"interval\"}}}, {\"vconcat\": [{\"mark\": \"point\", \"encoding\": {\"color\": {\"condition\": {\"type\": \"nominal\", \"field\": \"fid\", \"selection\": \"selector003\"}, \"value\": \"grey\"}, \"x\": {\"type\": \"quantitative\", \"field\": \"distance_to_channel\", \"title\": \"Distance to Channel in Meters\"}, \"y\": {\"type\": \"quantitative\", \"field\": \"pai\", \"title\": \"Plant Area Index\"}}, \"selection\": {\"selector003\": {\"type\": \"interval\"}}}, {\"mark\": \"tick\", \"encoding\": {\"color\": {\"condition\": {\"type\": \"nominal\", \"field\": \"fid\", \"selection\": \"selector003\"}, \"value\": \"lightgrey\"}, \"x\": {\"type\": \"quantitative\", \"axis\": {\"domain\": false, \"labels\": false, \"ticks\": false}, \"field\": \"distance_to_channel\"}, \"y\": {\"type\": \"nominal\", \"axis\": {\"domain\": false, \"labels\": false, \"ticks\": false}, \"field\": \"fid\", \"title\": \"\"}}, \"selection\": {\"selector003\": {\"type\": \"interval\"}}}]}], \"data\": {\"url\": \"altair-data-e958773a32d4573c79760693b1e501ca.json\", \"format\": {\"type\": \"json\"}}, \"$schema\": \"https://vega.github.io/schema/vega-lite/v4.0.2.json\"}, {\"mode\": \"vega-lite\"});\n",
       "</script>"
      ],
      "text/plain": [
       "alt.HConcatChart(...)"
      ]
     },
     "execution_count": 15,
     "metadata": {},
     "output_type": "execute_result"
    }
   ],
   "source": [
    "x"
   ]
  },
  {
   "cell_type": "code",
   "execution_count": 13,
   "metadata": {},
   "outputs": [
    {
     "data": {
      "text/html": [
       "\n",
       "<div id=\"altair-viz-3031357d032248d0b225f61260bc8244\"></div>\n",
       "<script type=\"text/javascript\">\n",
       "  (function(spec, embedOpt){\n",
       "    const outputDiv = document.getElementById(\"altair-viz-3031357d032248d0b225f61260bc8244\");\n",
       "    const paths = {\n",
       "      \"vega\": \"https://cdn.jsdelivr.net/npm//vega@5?noext\",\n",
       "      \"vega-lib\": \"https://cdn.jsdelivr.net/npm//vega-lib?noext\",\n",
       "      \"vega-lite\": \"https://cdn.jsdelivr.net/npm//vega-lite@4.0.2?noext\",\n",
       "      \"vega-embed\": \"https://cdn.jsdelivr.net/npm//vega-embed@6?noext\",\n",
       "    };\n",
       "\n",
       "    function loadScript(lib) {\n",
       "      return new Promise(function(resolve, reject) {\n",
       "        var s = document.createElement('script');\n",
       "        s.src = paths[lib];\n",
       "        s.async = true;\n",
       "        s.onload = () => resolve(paths[lib]);\n",
       "        s.onerror = () => reject(`Error loading script: ${paths[lib]}`);\n",
       "        document.getElementsByTagName(\"head\")[0].appendChild(s);\n",
       "      });\n",
       "    }\n",
       "\n",
       "    function showError(err) {\n",
       "      outputDiv.innerHTML = `<div class=\"error\" style=\"color:red;\">${err}</div>`;\n",
       "      throw err;\n",
       "    }\n",
       "\n",
       "    function displayChart(vegaEmbed) {\n",
       "      vegaEmbed(outputDiv, spec, embedOpt)\n",
       "        .catch(err => showError(`Javascript Error: ${err.message}<br>This usually means there's a typo in your chart specification. See the javascript console for the full traceback.`));\n",
       "    }\n",
       "\n",
       "    if(typeof define === \"function\" && define.amd) {\n",
       "      requirejs.config({paths});\n",
       "      require([\"vega-embed\"], displayChart, err => showError(`Error loading script: ${err.message}`));\n",
       "    } else if (typeof vegaEmbed === \"function\") {\n",
       "      displayChart(vegaEmbed);\n",
       "    } else {\n",
       "      loadScript(\"vega\")\n",
       "        .then(() => loadScript(\"vega-lite\"))\n",
       "        .then(() => loadScript(\"vega-embed\"))\n",
       "        .catch(showError)\n",
       "        .then(() => displayChart(vegaEmbed));\n",
       "    }\n",
       "  })({\"config\": {\"view\": {\"continuousWidth\": 400, \"continuousHeight\": 300}}, \"vconcat\": [{\"mark\": \"point\", \"encoding\": {\"color\": {\"condition\": {\"type\": \"nominal\", \"field\": \"fid\", \"selection\": \"selector002\"}, \"value\": \"lightgray\"}, \"x\": {\"type\": \"quantitative\", \"field\": \"distance_to_channel\"}, \"y\": {\"type\": \"quantitative\", \"field\": \"fhd_normal\"}}, \"selection\": {\"selector002\": {\"type\": \"interval\"}}}, {\"mark\": \"bar\", \"encoding\": {\"color\": {\"type\": \"nominal\", \"field\": \"fid\"}, \"x\": {\"type\": \"nominal\", \"aggregate\": \"count\", \"field\": \"fid\"}, \"y\": {\"type\": \"nominal\", \"field\": \"fid\"}}, \"transform\": [{\"filter\": {\"selection\": \"selector002\"}}]}], \"data\": {\"url\": \"altair-data-e958773a32d4573c79760693b1e501ca.json\", \"format\": {\"type\": \"json\"}}, \"$schema\": \"https://vega.github.io/schema/vega-lite/v4.0.2.json\"}, {\"mode\": \"vega-lite\"});\n",
       "</script>"
      ],
      "text/plain": [
       "alt.VConcatChart(...)"
      ]
     },
     "execution_count": 13,
     "metadata": {},
     "output_type": "execute_result"
    }
   ],
   "source": [
    "import altair as alt\n",
    "\n",
    "brush = alt.selection(type='interval')\n",
    "\n",
    "points = alt.Chart(riparian_df_utm).mark_point().encode(\n",
    "    x='distance_to_channel',\n",
    "    y='fhd_normal',\n",
    "    color=alt.condition(brush, 'fid', alt.value('lightgray'))\n",
    ").add_selection(\n",
    "    brush\n",
    ")\n",
    "\n",
    "bars = alt.Chart(riparian_df_utm).mark_bar().encode(\n",
    "    y='fid',\n",
    "    color='fid',\n",
    "    x='count(fid)'\n",
    ").transform_filter(\n",
    "    brush\n",
    ")\n",
    "\n",
    "points & bars"
   ]
  },
  {
   "cell_type": "markdown",
   "metadata": {},
   "source": [
    "### Finding nearest point on line to each sample, WIP. For distance along channel"
   ]
  },
  {
   "cell_type": "code",
   "execution_count": 189,
   "metadata": {},
   "outputs": [
    {
     "name": "stdout",
     "output_type": "stream",
     "text": [
      "Closest point found at: POINT (574316.249437192 3507341.019329689), with a distance of 6187.76 units.\n"
     ]
    }
   ],
   "source": [
    "from shapely.geometry import Point, Polygon\n",
    "from shapely.ops import linemerge\n",
    "from math import sqrt\n",
    "\n",
    "# pairs iterator:\n",
    "# http://stackoverflow.com/questions/1257413/1257446#1257446\n",
    "def pairs(lst):\n",
    "    i = iter(lst)\n",
    "    first = prev = next(i)\n",
    "    for item in i:\n",
    "        yield prev, item\n",
    "        prev = item\n",
    "    yield item, first\n",
    "\n",
    "# these methods rewritten from the C version of Paul Bourke's\n",
    "# geometry computations:\n",
    "# http://local.wasp.uwa.edu.au/~pbourke/geometry/pointline/\n",
    "def magnitude(p1, p2):\n",
    "    vect_x = p2.x - p1.x\n",
    "    vect_y = p2.y - p1.y\n",
    "    return sqrt(vect_x**2 + vect_y**2)\n",
    "\n",
    "def intersect_point_to_line(point, line_start, line_end):\n",
    "    line_magnitude =  magnitude(line_end, line_start)\n",
    "    u = ((point.x - line_start.x) * (line_end.x - line_start.x) +\n",
    "         (point.y - line_start.y) * (line_end.y - line_start.y)) \\\n",
    "         / (line_magnitude ** 2)\n",
    "\n",
    "    # closest point does not fall within the line segment, \n",
    "    # take the shorter distance to an endpoint\n",
    "    if u < 0.00001 or u > 1:\n",
    "        ix = magnitude(point, line_start)\n",
    "        iy = magnitude(point, line_end)\n",
    "        if ix > iy:\n",
    "            return line_end\n",
    "        else:\n",
    "            return line_start\n",
    "    else:\n",
    "        ix = line_start.x + u * (line_end.x - line_start.x)\n",
    "        iy = line_start.y + u * (line_end.y - line_start.y)\n",
    "        return Point([ix, iy])\n",
    "\n",
    "nearest_point = None\n",
    "min_dist = float(\"inf\")\n",
    "\n",
    "for seg_start, seg_end in pairs(list(linemerge(san_pedro_utm['geometry'].unary_union).coords)[:-1]):\n",
    "    line_start = Point(seg_start)\n",
    "    line_end = Point(seg_end)\n",
    "\n",
    "    intersection_point = intersect_point_to_line(point, line_start, line_end)\n",
    "    cur_dist =  magnitude(point, intersection_point)\n",
    "\n",
    "    if cur_dist < min_dist:\n",
    "        min_dist = cur_dist\n",
    "        nearest_point = intersection_point\n",
    "\n",
    "print(\"Closest point found at: %s, with a distance of %.2f units.\" % \\\n",
    "   (nearest_point, min_dist))"
   ]
  },
  {
   "cell_type": "markdown",
   "metadata": {},
   "source": [
    "The above value differs from the distance value provided by geopandas by about 1000 meters... need to calcualte this myself but need the nearest point first. might need to super densely sample points along the line to get the nearest point and then use that to measure the distance?"
   ]
  },
  {
   "cell_type": "code",
   "execution_count": 196,
   "metadata": {},
   "outputs": [
    {
     "data": {
      "text/plain": [
       "1587"
      ]
     },
     "execution_count": 196,
     "metadata": {},
     "output_type": "execute_result"
    }
   ],
   "source": [
    "from shapely.ops import linemerge\n",
    "linemerge(san_pedro_utm['geometry'].unary_union).coords[:-1]"
   ]
  },
  {
   "cell_type": "markdown",
   "metadata": {},
   "source": [
    "### exploring gedi as xarrays"
   ]
  },
  {
   "cell_type": "code",
   "execution_count": null,
   "metadata": {},
   "outputs": [],
   "source": [
    "h5s = list(Path(\"data/GEDI_L2B_raw/\").glob(\"*.h5\"))"
   ]
  },
  {
   "cell_type": "code",
   "execution_count": 10,
   "metadata": {},
   "outputs": [],
   "source": [
    "beam_groups = [\"/BEAM0000\", \"/BEAM1011\", \"/BEAM1000\", \"/BEAM0110\", \"/BEAM0101\", \"/BEAM0011\", \"/BEAM0010\", \"/BEAM0001\"]\n",
    "beam_sub_groups = [\"ancillary\", \"geolocation\", \"land_cover_data\", \"rx_processing\"]\n",
    "meta_group = \"METADATA/DatasetIdentification\""
   ]
  },
  {
   "cell_type": "code",
   "execution_count": 11,
   "metadata": {},
   "outputs": [],
   "source": [
    "def open_beams(file_path, beam_groups = [\"/BEAM0000\", \"/BEAM1011\", \"/BEAM1000\", \"/BEAM0110\", \"/BEAM0101\", \"/BEAM0011\", \"/BEAM0010\", \"/BEAM0001\"]):\n",
    "    datasets = []\n",
    "    for beam in beam_groups:\n",
    "        print(beam)\n",
    "        # coord related values that need to be assigned to the dataset.\n",
    "        ds_geo = xr.open_dataset(file_path, group=f\"/{beam}/geolocation/\")\n",
    "        lat_coords = ds_geo.lat_highestreturn.values\n",
    "        lon_coords = ds_geo.lon_highestreturn.values\n",
    "        time_coords = ds_geo.delta_time.values\n",
    "        \n",
    "        # renaming and prooer meter units for z, vertical profile\n",
    "        dz = xr.open_dataset(file_path, group=f\"/{beam}/ancillary\").dz.values\n",
    "        ds = xr.open_dataset(file_path, group=beam)\n",
    "        dim_names = list(ds.dims)\n",
    "        ds = ds.rename({dim_names[1]:\"z\"}).drop_dims(dim_names[2]) # phony 6 only used for directional gap prob profile. \n",
    "        ds['z'] = ds.z * dz # make z have units in meters\n",
    "        \n",
    "        # assigning location and time coords to the variables depending on if they represent avg over profile or are taken along profile\n",
    "        ds = ds.rename({dim_names[0]:\"y\"})\n",
    "        ds['y'] = lat_coords\n",
    "        ds = ds.assign({\"x\":lon_coords, \"time\":time_coords})\n",
    "        \n",
    "        datasets.append(ds)\n",
    "    return datasets"
   ]
  },
  {
   "cell_type": "code",
   "execution_count": 13,
   "metadata": {},
   "outputs": [],
   "source": [
    "file_paths = list(Path(\"data\").glob(\"*.h5\"))"
   ]
  },
  {
   "cell_type": "code",
   "execution_count": 54,
   "metadata": {},
   "outputs": [
    {
     "data": {
      "text/plain": [
       "410254"
      ]
     },
     "execution_count": 54,
     "metadata": {},
     "output_type": "execute_result"
    }
   ],
   "source": [
    "len(xr.open_dataset(file_paths[14], group=\"/BEAM1011/geolocation\").coords['delta_time'].values)"
   ]
  },
  {
   "cell_type": "code",
   "execution_count": null,
   "metadata": {},
   "outputs": [],
   "source": [
    "list(xr.open_dataset(file_paths[0], group=\"/BEAM1011\").dims)"
   ]
  },
  {
   "cell_type": "code",
   "execution_count": null,
   "metadata": {},
   "outputs": [],
   "source": [
    "open_beams(file_paths[0])"
   ]
  },
  {
   "cell_type": "code",
   "execution_count": 36,
   "metadata": {},
   "outputs": [
    {
     "data": {
      "text/plain": [
       "PosixPath('data/GEDI02_B_2019125153619_O02233_T05438_02_001_01.shp')"
      ]
     },
     "execution_count": 36,
     "metadata": {},
     "output_type": "execute_result"
    }
   ],
   "source": [
    "shps[0]"
   ]
  },
  {
   "cell_type": "code",
   "execution_count": 51,
   "metadata": {},
   "outputs": [
    {
     "data": {
      "text/plain": [
       "PosixPath('data/GEDI02_B_2019125153619_O02233_T05438_02_001_01.h5')"
      ]
     },
     "execution_count": 51,
     "metadata": {},
     "output_type": "execute_result"
    }
   ],
   "source": [
    "file_paths[14]"
   ]
  },
  {
   "cell_type": "code",
   "execution_count": null,
   "metadata": {},
   "outputs": [],
   "source": [
    "test_beam.sensitivity\n",
    "test_beam.fhd_normal\n",
    "test_beam.l2a_quality_flag\n",
    "test_beam.l2b_quality_flag\n",
    "test_beam.pai\n",
    "test_beam.pai_z\n",
    "test_beam.pavd_z\n",
    "test_beam.l2b_quality_flag"
   ]
  },
  {
   "cell_type": "code",
   "execution_count": null,
   "metadata": {},
   "outputs": [],
   "source": [
    "ds = xr.Dataset({'pai_z': (['x', 'y', 'time', 'z'],  test_beam.pai_z),\n",
    "                 coords={'x': (['x', 'y'], lon_coords),\n",
    "                         'y': (['x', 'y'], lat_coords),\n",
    "                         'time': time_coords,\n",
    "                        \"z\": test_beam.phony_dim_5.values}})"
   ]
  },
  {
   "cell_type": "code",
   "execution_count": null,
   "metadata": {},
   "outputs": [],
   "source": []
  }
 ],
 "metadata": {
  "kernelspec": {
   "display_name": "geo",
   "language": "python",
   "name": "geo"
  },
  "language_info": {
   "codemirror_mode": {
    "name": "ipython",
    "version": 3
   },
   "file_extension": ".py",
   "mimetype": "text/x-python",
   "name": "python",
   "nbconvert_exporter": "python",
   "pygments_lexer": "ipython3",
   "version": "3.6.7"
  }
 },
 "nbformat": 4,
 "nbformat_minor": 4
}
