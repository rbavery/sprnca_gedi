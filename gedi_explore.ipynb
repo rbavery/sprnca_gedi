{
 "cells": [
  {
   "cell_type": "markdown",
   "metadata": {},
   "source": [
    "Project Description\n",
    "\n",
    "Objective: Use the GEDI L2B product to classify the San Pedro Riparian National Conservation Area (SPRNCA) by Foliage Height Diversity (FHD). \n",
    "\n",
    "FHD is an important metric for estimating ecological diversity and habitat suitability. Bird species are particularly sensitive in their habitat selection to vertical structure characteristics and the SPRNCA is an internationally recognized habitat zone for migratory and wintering birds. Zones would be classified using unsupervised techniques such as Agglomerative Clustering or DBSCAN. Once regions are classified,  I can evaluate present day trends in water stress over the different FHD classes to evaluate if parts of the corridor that are well suited for sensitive species habitat are particularly susceptible to water stress. To measure water stress, I will use either the ECOSTRESS Evaporative Stress Index (ESI) or EEflux’s METRIC based ET product coupled with ERA5’s PET estimate, depending on data availability. The primary outputs of this project will be maps classifying SPRNCA by FHD and time series plots and maps of the ESI for each FHD class.\n",
    "\n",
    "The GEDI L2B product has an average spatial footprint of 25 meters and there are ~ 220 observations covering the SPRNCA corridor (I still need to determine how well this time series covers the SPRNCA). So this analysis would be limited to portions of the SPRNCA that have a riparian corridor wider than 25 meters. I also have near daily cloud masks from this area derived from Planet Labs imagery that I will use to filter the L2B and ESI products."
   ]
  },
  {
   "cell_type": "markdown",
   "metadata": {},
   "source": [
    "## Notes\n",
    "\n",
    "GEDI data come in groups, and xarray can only read one at a time.\n",
    "\n",
    "Quality FAQ with suggestions are here: https://lpdaac.usgs.gov/documents/589/GEDIL02_User_Guide_V1.pdf\n",
    "\n",
    "conda install pyinterp -c conda-forge possible option for interpolation as it supports unstructured grids, 3D\n",
    "\n",
    "this tweet has useful info on which beams use full power\n",
    "https://twitter.com/GEDI_Knights/status/1228203192803966990\n",
    "\n",
    "- BEAM0000 (ID 0) = Coverage\n",
    "- BEAM0001 (ID 1) = Coverage\n",
    "- BEAM0010 (ID 2) = Coverage\n",
    "- BEAM0011 (ID 3) = Coverage\n",
    "- BEAM0101 (ID 5) = Power\n",
    "- BEAM0110 (ID 6) = Power\n",
    "- BEAM1000 (ID 8) = Power\n",
    "- BEAM1011 (ID 11) = Power\n",
    "\n",
    "Interpretation of L2A Quality Flag\n",
    "In order to provide end users with the ability to easily remove erroneous and/or\n",
    "lower quality returns, we provide a quality_flag. This is a summation of several\n",
    "individual quality assessment parameters and is intended to provide general\n",
    "guidance only. A quality_flag value of 1 indicates the laser shot meets criteria\n",
    "based on energy, sensitivity, amplitude, and real-time surface tracking quality.\n",
    "Interpretation of L2B Quality Flag\n",
    "\n",
    "In order to provide end users with the ability to easily remove erroneous and/or\n",
    "lower quality returns, and returns not corresponding to the land surface, we\n",
    "provide a quality_flag based on the outputs of the selected L2A algorithm\n",
    "settings group. Results are available for every shot with a valid waveform, but\n",
    "sometimes these results are not directly meaningful, such as vertical profile\n",
    "metrics over the ocean.\n",
    "\n",
    "As done for L2A, quality_flag is a summation of several individual quality\n",
    "assessment parameters and other flags and is intended to provide general\n",
    "guidance only. A quality_flag value of 1 indicates the cover and vertical profile\n",
    "metrics represent the land surface and meet criteria based on waveform shot\n",
    "energy, sensitivity, amplitude, and real-time surface track\n"
   ]
  },
  {
   "cell_type": "code",
   "execution_count": 1,
   "metadata": {},
   "outputs": [],
   "source": [
    "#!bash gedi_to_vector.sh # for generating shp files from h5 files"
   ]
  },
  {
   "cell_type": "code",
   "execution_count": 1,
   "metadata": {},
   "outputs": [],
   "source": [
    "import geopandas as gpd\n",
    "import pandas as pd\n",
    "import xarray as xr\n",
    "import rioxarray as rx\n",
    "import numpy as np\n",
    "from pathlib import Path\n",
    "import matplotlib.pyplot as plt\n",
    "from pygedi.clean_shps import *"
   ]
  },
  {
   "cell_type": "code",
   "execution_count": 2,
   "metadata": {},
   "outputs": [],
   "source": [
    "shps = list(Path(\"data/processed\").glob(\"GEDI*.shp\"))"
   ]
  },
  {
   "cell_type": "code",
   "execution_count": 3,
   "metadata": {},
   "outputs": [],
   "source": [
    "h5s = list(Path(\"data/\").glob(\"*.h5\"))"
   ]
  },
  {
   "cell_type": "code",
   "execution_count": 4,
   "metadata": {},
   "outputs": [],
   "source": []
  },
  {
   "cell_type": "code",
   "execution_count": 6,
   "metadata": {},
   "outputs": [
    {
     "name": "stdout",
     "output_type": "stream",
     "text": [
      "data/GEDI02_B_2019125153619_O02233_T05438_02_001_01.shp\n",
      "data/GEDI02_B_2019118181859_O02126_T01322_02_001_01.shp\n",
      "data/GEDI02_B_2019128065621_O02274_T03291_02_001_01.shp\n",
      "data/GEDI02_B_2019156193255_O02717_T03903_02_001_01.shp\n",
      "data/GEDI02_B_2019132125326_O02340_T03709_02_001_01.shp\n",
      "data/GEDI02_B_2019135041325_O02381_T00292_02_001_01.shp\n",
      "data/GEDI02_B_2019157031646_O02722_T03755_02_001_01.shp\n",
      "data/GEDI02_B_2019121093906_O02167_T05020_02_001_01.shp\n",
      "data/GEDI02_B_2019110140743_O01999_T00491_02_001_01.shp\n",
      "data/GEDI02_B_2019150055009_O02615_T01169_02_001_01.shp\n",
      "data/GEDI02_B_2019146073100_O02554_T01521_02_001_01.shp\n",
      "data/GEDI02_B_2019163165924_O02824_T05219_02_001_01.shp\n",
      "data/GEDI02_B_2019121172232_O02172_T03449_02_001_01.shp\n",
      "data/GEDI02_B_2019161013549_O02783_T04979_02_001_02.shp\n",
      "data/GEDI02_B_2019152211349_O02656_T01409_02_001_01.shp\n",
      "data/GEDI02_B_2019111210128_O02019_T04474_02_001_01.shp\n"
     ]
    }
   ],
   "source": [
    "gdfs = []\n",
    "for path in shps:\n",
    "    print(path)\n",
    "    gdf = preprocess_gedi_gdf(path)\n",
    "    \n",
    "    gdfs.append(gdf)\n",
    "    \n",
    "all_samples = pd.concat(gdfs)\n",
    "    "
   ]
  },
  {
   "cell_type": "code",
   "execution_count": 9,
   "metadata": {},
   "outputs": [
    {
     "data": {
      "text/plain": [
       "194099"
      ]
     },
     "execution_count": 9,
     "metadata": {},
     "output_type": "execute_result"
    }
   ],
   "source": [
    "all_samples.to_csv(\"data\")"
   ]
  },
  {
   "cell_type": "code",
   "execution_count": 11,
   "metadata": {},
   "outputs": [
    {
     "data": {
      "text/plain": [
       "<matplotlib.axes._subplots.AxesSubplot at 0x7f689d44b7f0>"
      ]
     },
     "execution_count": 11,
     "metadata": {},
     "output_type": "execute_result"
    },
    {
     "data": {
      "image/png": "[encoded data removed]",
      "text/plain": [
       "<Figure size 432x288 with 1 Axes>"
      ]
     },
     "metadata": {
      "needs_background": "light"
     },
     "output_type": "display_data"
    }
   ],
   "source": [
    "fig, ax = plt.subplots()\n",
    "gpd.read_file(\"data/OSM_SanPedro.shp\").plot(ax =ax)\n",
    "test.plot(ax=ax)"
   ]
  },
  {
   "cell_type": "code",
   "execution_count": null,
   "metadata": {},
   "outputs": [],
   "source": []
  },
  {
   "cell_type": "code",
   "execution_count": null,
   "metadata": {},
   "outputs": [],
   "source": []
  },
  {
   "cell_type": "code",
   "execution_count": null,
   "metadata": {},
   "outputs": [],
   "source": []
  },
  {
   "cell_type": "code",
   "execution_count": null,
   "metadata": {},
   "outputs": [],
   "source": []
  },
  {
   "cell_type": "code",
   "execution_count": 10,
   "metadata": {},
   "outputs": [],
   "source": [
    "beam_groups = [\"/BEAM0000\", \"/BEAM1011\", \"/BEAM1000\", \"/BEAM0110\", \"/BEAM0101\", \"/BEAM0011\", \"/BEAM0010\", \"/BEAM0001\"]\n",
    "beam_sub_groups = [\"ancillary\", \"geolocation\", \"land_cover_data\", \"rx_processing\"]\n",
    "meta_group = \"METADATA/DatasetIdentification\""
   ]
  },
  {
   "cell_type": "code",
   "execution_count": 11,
   "metadata": {},
   "outputs": [],
   "source": [
    "def open_beams(file_path, beam_groups = [\"/BEAM0000\", \"/BEAM1011\", \"/BEAM1000\", \"/BEAM0110\", \"/BEAM0101\", \"/BEAM0011\", \"/BEAM0010\", \"/BEAM0001\"]):\n",
    "    datasets = []\n",
    "    for beam in beam_groups:\n",
    "        print(beam)\n",
    "        # coord related values that need to be assigned to the dataset.\n",
    "        ds_geo = xr.open_dataset(file_path, group=f\"/{beam}/geolocation/\")\n",
    "        lat_coords = ds_geo.lat_highestreturn.values\n",
    "        lon_coords = ds_geo.lon_highestreturn.values\n",
    "        time_coords = ds_geo.delta_time.values\n",
    "        \n",
    "        # renaming and prooer meter units for z, vertical profile\n",
    "        dz = xr.open_dataset(file_path, group=f\"/{beam}/ancillary\").dz.values\n",
    "        ds = xr.open_dataset(file_path, group=beam)\n",
    "        dim_names = list(ds.dims)\n",
    "        ds = ds.rename({dim_names[1]:\"z\"}).drop_dims(dim_names[2]) # phony 6 only used for directional gap prob profile. \n",
    "        ds['z'] = ds.z * dz # make z have units in meters\n",
    "        \n",
    "        # assigning location and time coords to the variables depending on if they represent avg over profile or are taken along profile\n",
    "        ds = ds.rename({dim_names[0]:\"y\"})\n",
    "        ds['y'] = lat_coords\n",
    "        ds = ds.assign({\"x\":lon_coords, \"time\":time_coords})\n",
    "        \n",
    "        datasets.append(ds)\n",
    "    return datasets"
   ]
  },
  {
   "cell_type": "code",
   "execution_count": 13,
   "metadata": {},
   "outputs": [],
   "source": [
    "file_paths = list(Path(\"data\").glob(\"*.h5\"))"
   ]
  },
  {
   "cell_type": "code",
   "execution_count": 54,
   "metadata": {},
   "outputs": [
    {
     "data": {
      "text/plain": [
       "410254"
      ]
     },
     "execution_count": 54,
     "metadata": {},
     "output_type": "execute_result"
    }
   ],
   "source": [
    "len(xr.open_dataset(file_paths[14], group=\"/BEAM1011/geolocation\").coords['delta_time'].values)"
   ]
  },
  {
   "cell_type": "code",
   "execution_count": null,
   "metadata": {},
   "outputs": [],
   "source": [
    "list(xr.open_dataset(file_paths[0], group=\"/BEAM1011\").dims)"
   ]
  },
  {
   "cell_type": "code",
   "execution_count": null,
   "metadata": {},
   "outputs": [],
   "source": [
    "open_beams(file_paths[0])"
   ]
  },
  {
   "cell_type": "code",
   "execution_count": 36,
   "metadata": {},
   "outputs": [
    {
     "data": {
      "text/plain": [
       "PosixPath('data/GEDI02_B_2019125153619_O02233_T05438_02_001_01.shp')"
      ]
     },
     "execution_count": 36,
     "metadata": {},
     "output_type": "execute_result"
    }
   ],
   "source": [
    "shps[0]"
   ]
  },
  {
   "cell_type": "code",
   "execution_count": 51,
   "metadata": {},
   "outputs": [
    {
     "data": {
      "text/plain": [
       "PosixPath('data/GEDI02_B_2019125153619_O02233_T05438_02_001_01.h5')"
      ]
     },
     "execution_count": 51,
     "metadata": {},
     "output_type": "execute_result"
    }
   ],
   "source": [
    "file_paths[14]"
   ]
  },
  {
   "cell_type": "code",
   "execution_count": null,
   "metadata": {},
   "outputs": [],
   "source": [
    "test_beam.sensitivity\n",
    "test_beam.fhd_normal\n",
    "test_beam.l2a_quality_flag\n",
    "test_beam.l2b_quality_flag\n",
    "test_beam.pai\n",
    "test_beam.pai_z\n",
    "test_beam.pavd_z\n",
    "test_beam.l2b_quality_flag"
   ]
  },
  {
   "cell_type": "code",
   "execution_count": null,
   "metadata": {},
   "outputs": [],
   "source": [
    "ds = xr.Dataset({'pai_z': (['x', 'y', 'time', 'z'],  test_beam.pai_z),\n",
    "                 coords={'x': (['x', 'y'], lon_coords),\n",
    "                         'y': (['x', 'y'], lat_coords),\n",
    "                         'time': time_coords,\n",
    "                        \"z\": test_beam.phony_dim_5.values}})"
   ]
  },
  {
   "cell_type": "code",
   "execution_count": null,
   "metadata": {},
   "outputs": [],
   "source": []
  }
 ],
 "metadata": {
  "kernelspec": {
   "display_name": "geo",
   "language": "python",
   "name": "geo"
  },
  "language_info": {
   "codemirror_mode": {
    "name": "ipython",
    "version": 3
   },
   "file_extension": ".py",
   "mimetype": "text/x-python",
   "name": "python",
   "nbconvert_exporter": "python",
   "pygments_lexer": "ipython3",
   "version": "3.6.7"
  }
 },
 "nbformat": 4,
 "nbformat_minor": 4
}
