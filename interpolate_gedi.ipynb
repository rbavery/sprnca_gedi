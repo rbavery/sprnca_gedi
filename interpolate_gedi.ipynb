{
 "cells": [
  {
   "cell_type": "markdown",
   "metadata": {},
   "source": [
    "Project Description\n",
    "\n",
    "Objective: Use the GEDI L2B product to classify the San Pedro Riparian National Conservation Area (SPRNCA) by Foliage Height Diversity (FHD). \n",
    "\n",
    "FHD is an important metric for estimating ecological diversity and habitat suitability. Bird species are particularly sensitive in their habitat selection to vertical structure characteristics and the SPRNCA is an internationally recognized habitat zone for migratory and wintering birds. Zones would be classified using unsupervised techniques such as Agglomerative Clustering or DBSCAN. Once regions are classified,  I can evaluate present day trends in water stress over the different FHD classes to evaluate if parts of the corridor that are well suited for sensitive species habitat are particularly susceptible to water stress. To measure water stress, I will use either the ECOSTRESS Evaporative Stress Index (ESI) or EEflux’s METRIC based ET product coupled with ERA5’s PET estimate, depending on data availability. The primary outputs of this project will be maps classifying SPRNCA by FHD and time series plots and maps of the ESI for each FHD class.\n",
    "\n",
    "The GEDI L2B product has an average spatial footprint of 25 meters and there are ~ 220 observations covering the SPRNCA corridor (I still need to determine how well this time series covers the SPRNCA). So this analysis would be limited to portions of the SPRNCA that have a riparian corridor wider than 25 meters. I also have near daily cloud masks from this area derived from Planet Labs imagery that I will use to filter the L2B and ESI products."
   ]
  },
  {
   "cell_type": "markdown",
   "metadata": {},
   "source": [
    "Notes\n",
    "\n",
    "GEDI data come in groups, and xarray can only read one at a time.\n",
    "\n",
    "Quality FAQ with suggestions are here: https://lpdaac.usgs.gov/documents/589/GEDIL02_User_Guide_V1.pdf\n",
    "\n",
    "conda install pyinterp -c conda-forge possible option for interpolation as it supports unstructured grids, 3D\n",
    "\n",
    "xarray question: https://stackoverflow.com/questions/60161815/define-coordinates-meant-to-work-with-particular-variables-in-xarray"
   ]
  },
  {
   "cell_type": "code",
   "execution_count": 1,
   "metadata": {},
   "outputs": [],
   "source": [
    "import xarray as xr\n",
    "import rioxarray as rx\n",
    "import numpy as np\n",
    "from pathlib import Path"
   ]
  },
  {
   "cell_type": "code",
   "execution_count": 2,
   "metadata": {},
   "outputs": [],
   "source": [
    "beam_groups = [\"/BEAM0000\", \"/BEAM1011\", \"/BEAM1000\", \"/BEAM0110\", \"/BEAM0101\", \"/BEAM0011\", \"/BEAM0010\", \"/BEAM0001\"]\n",
    "beam_sub_groups = [\"ancillary\", \"geolocation\", \"land_cover_data\", \"rx_processing\"]\n",
    "meta_group = \"METADATA/DatasetIdentification\""
   ]
  },
  {
   "cell_type": "code",
   "execution_count": 3,
   "metadata": {},
   "outputs": [],
   "source": [
    "def open_beams(file_path, beam_groups = [\"/BEAM0000\", \"/BEAM1011\", \"/BEAM1000\", \"/BEAM0110\", \"/BEAM0101\", \"/BEAM0011\", \"/BEAM0010\", \"/BEAM0001\"]):\n",
    "    datasets = []\n",
    "    for beam in beam_groups:\n",
    "        print(beam)\n",
    "        # coord related values that need to be assigned to the dataset.\n",
    "        ds_geo = xr.open_dataset(file_path, group=f\"/{beam}/geolocation/\")\n",
    "        lat_coords = ds_geo.lat_highestreturn.values\n",
    "        lon_coords = ds_geo.lon_highestreturn.values\n",
    "        time_coords = ds_geo.delta_time.values\n",
    "        \n",
    "        # renaming and prooer meter units for z, vertical profile\n",
    "        dz = xr.open_dataset(file_path, group=f\"/{beam}/ancillary\").dz.values\n",
    "        ds = xr.open_dataset(file_path, group=beam)\n",
    "        dim_names = list(ds.dims)\n",
    "        ds = ds.rename({dim_names[1]:\"z\"}).drop_dims(dim_names[2]) # phony 6 only used for directional gap prob profile. \n",
    "        ds['z'] = ds.z * dz # make z have units in meters\n",
    "        \n",
    "        # assigning location and time coords to the variables depending on if they represent avg over profile or are taken along profile\n",
    "        ds = ds.rename({dim_names[0]:\"y\"})\n",
    "        ds['y'] = lat_coords\n",
    "        ds = ds.assign({\"x\":lon_coords, \"time\":time_coords})\n",
    "        \n",
    "        datasets.append(ds)\n",
    "    return datasets"
   ]
  },
  {
   "cell_type": "code",
   "execution_count": null,
   "metadata": {},
   "outputs": [],
   "source": []
  },
  {
   "cell_type": "code",
   "execution_count": 4,
   "metadata": {},
   "outputs": [],
   "source": [
    "file_paths = list(Path(\"data\").glob(\"*.h5\"))"
   ]
  },
  {
   "cell_type": "code",
   "execution_count": 16,
   "metadata": {},
   "outputs": [
    {
     "data": {
      "text/plain": [
       "['phony_dim_53', 'phony_dim_54', 'phony_dim_55']"
      ]
     },
     "execution_count": 16,
     "metadata": {},
     "output_type": "execute_result"
    }
   ],
   "source": [
    "list(xr.open_dataset(file_paths[0], group=\"/BEAM1011\").dims)"
   ]
  },
  {
   "cell_type": "code",
   "execution_count": 89,
   "metadata": {},
   "outputs": [
    {
     "data": {
      "text/html": [
       "<pre>&lt;xarray.Dataset&gt;\n",
       "Dimensions:                 (phony_dim_4: 475621, phony_dim_5: 30, phony_dim_6: 8944126)\n",
       "Dimensions without coordinates: phony_dim_4, phony_dim_5, phony_dim_6\n",
       "Data variables:\n",
       "    algorithmrun_flag       (phony_dim_4) uint8 0 0 0 0 0 0 0 ... 0 0 0 0 0 0 0\n",
       "    beam                    (phony_dim_4) uint16 0 0 0 0 0 0 0 ... 0 0 0 0 0 0 0\n",
       "    channel                 (phony_dim_4) uint8 0 0 0 0 0 0 0 ... 0 0 0 0 0 0 0\n",
       "    cover                   (phony_dim_4) float32 nan nan nan ... nan nan nan\n",
       "    cover_z                 (phony_dim_4, phony_dim_5) float32 nan nan ... nan\n",
       "    delta_time              (phony_dim_4) datetime64[ns] 2019-06-12T14:11:24.600074800 ... 2019-06-12T15:26:19.994699152\n",
       "    fhd_normal              (phony_dim_4) float32 nan nan nan ... nan nan nan\n",
       "    l2a_quality_flag        (phony_dim_4) uint8 0 0 0 0 0 0 0 ... 0 0 0 0 0 0 0\n",
       "    l2b_quality_flag        (phony_dim_4) uint8 0 0 0 0 0 0 0 ... 0 0 0 0 0 0 0\n",
       "    master_frac             (phony_dim_4) timedelta64[ns] 00:00:00.600074 ... 00:00:00.994699\n",
       "    master_int              (phony_dim_4) timedelta64[ns] 527 days 14:11:24 ... 527 days 15:26:19\n",
       "    num_detectedmodes       (phony_dim_4) uint8 0 0 0 0 0 0 0 ... 0 0 0 0 0 0 0\n",
       "    omega                   (phony_dim_4) float32 1.0 1.0 1.0 ... 1.0 1.0 1.0\n",
       "    pai                     (phony_dim_4) float32 nan nan nan ... nan nan nan\n",
       "    pai_z                   (phony_dim_4, phony_dim_5) float32 nan nan ... nan\n",
       "    pavd_z                  (phony_dim_4, phony_dim_5) float32 nan nan ... nan\n",
       "    pgap_theta              (phony_dim_4) float32 nan nan nan ... nan nan nan\n",
       "    pgap_theta_error        (phony_dim_4) float32 nan nan nan ... nan nan nan\n",
       "    pgap_theta_z            (phony_dim_6) float32 nan nan nan ... nan nan nan\n",
       "    rg                      (phony_dim_4) float32 nan nan nan ... nan nan nan\n",
       "    rh100                   (phony_dim_4) int16 0 0 0 0 0 0 0 ... 0 0 0 0 0 0 0\n",
       "    rhog                    (phony_dim_4) float32 0.4 0.4 0.4 ... 0.4 0.4 0.4\n",
       "    rhog_error              (phony_dim_4) float32 nan nan nan ... nan nan nan\n",
       "    rhov                    (phony_dim_4) float32 0.6 0.6 0.6 ... 0.6 0.6 0.6\n",
       "    rhov_error              (phony_dim_4) float32 nan nan nan ... nan nan nan\n",
       "    rossg                   (phony_dim_4) float32 0.5 0.5 0.5 ... 0.5 0.5 0.5\n",
       "    rv                      (phony_dim_4) float32 nan nan nan ... nan nan nan\n",
       "    rx_range_highestreturn  (phony_dim_4) float64 4.147e+05 ... 4.195e+05\n",
       "    rx_sample_count         (phony_dim_4) int64 4 4 4 4 4 4 4 ... 4 4 4 4 4 4 4\n",
       "    rx_sample_start_index   (phony_dim_4) int64 1 5 9 ... 8944119 8944123\n",
       "    selected_l2a_algorithm  (phony_dim_4) uint8 1 1 1 1 1 1 1 ... 1 1 1 1 1 1 1\n",
       "    selected_rg_algorithm   (phony_dim_4) uint8 0 0 0 0 0 0 0 ... 0 0 0 0 0 0 0\n",
       "    sensitivity             (phony_dim_4) float32 -23.674726 ... -2.002046\n",
       "    shot_number             (phony_dim_4) uint64 28220002300000001 ... 28220011900475621\n",
       "    stale_return_flag       (phony_dim_4) uint8 1 1 1 1 1 1 1 ... 1 1 1 1 1 1 1\n",
       "    surface_flag            (phony_dim_4) uint8 1 1 1 1 1 1 1 ... 0 0 0 0 0 0 0\n",
       "Attributes:\n",
       "    wp-l2-l2b_githash:  344b44a3adc93983cc84ade093020500f87fee00\n",
       "    wp-l2-l2b_version:  20191201.0.0\n",
       "    description:        Coverage beam</pre>"
      ],
      "text/plain": [
       "<xarray.Dataset>\n",
       "Dimensions:                 (phony_dim_4: 475621, phony_dim_5: 30, phony_dim_6: 8944126)\n",
       "Dimensions without coordinates: phony_dim_4, phony_dim_5, phony_dim_6\n",
       "Data variables:\n",
       "    algorithmrun_flag       (phony_dim_4) uint8 0 0 0 0 0 0 0 ... 0 0 0 0 0 0 0\n",
       "    beam                    (phony_dim_4) uint16 0 0 0 0 0 0 0 ... 0 0 0 0 0 0 0\n",
       "    channel                 (phony_dim_4) uint8 0 0 0 0 0 0 0 ... 0 0 0 0 0 0 0\n",
       "    cover                   (phony_dim_4) float32 nan nan nan ... nan nan nan\n",
       "    cover_z                 (phony_dim_4, phony_dim_5) float32 nan nan ... nan\n",
       "    delta_time              (phony_dim_4) datetime64[ns] 2019-06-12T14:11:24.600074800 ... 2019-06-12T15:26:19.994699152\n",
       "    fhd_normal              (phony_dim_4) float32 nan nan nan ... nan nan nan\n",
       "    l2a_quality_flag        (phony_dim_4) uint8 0 0 0 0 0 0 0 ... 0 0 0 0 0 0 0\n",
       "    l2b_quality_flag        (phony_dim_4) uint8 0 0 0 0 0 0 0 ... 0 0 0 0 0 0 0\n",
       "    master_frac             (phony_dim_4) timedelta64[ns] 00:00:00.600074 ... 00:00:00.994699\n",
       "    master_int              (phony_dim_4) timedelta64[ns] 527 days 14:11:24 ... 527 days 15:26:19\n",
       "    num_detectedmodes       (phony_dim_4) uint8 0 0 0 0 0 0 0 ... 0 0 0 0 0 0 0\n",
       "    omega                   (phony_dim_4) float32 1.0 1.0 1.0 ... 1.0 1.0 1.0\n",
       "    pai                     (phony_dim_4) float32 nan nan nan ... nan nan nan\n",
       "    pai_z                   (phony_dim_4, phony_dim_5) float32 nan nan ... nan\n",
       "    pavd_z                  (phony_dim_4, phony_dim_5) float32 nan nan ... nan\n",
       "    pgap_theta              (phony_dim_4) float32 nan nan nan ... nan nan nan\n",
       "    pgap_theta_error        (phony_dim_4) float32 nan nan nan ... nan nan nan\n",
       "    pgap_theta_z            (phony_dim_6) float32 nan nan nan ... nan nan nan\n",
       "    rg                      (phony_dim_4) float32 nan nan nan ... nan nan nan\n",
       "    rh100                   (phony_dim_4) int16 0 0 0 0 0 0 0 ... 0 0 0 0 0 0 0\n",
       "    rhog                    (phony_dim_4) float32 0.4 0.4 0.4 ... 0.4 0.4 0.4\n",
       "    rhog_error              (phony_dim_4) float32 nan nan nan ... nan nan nan\n",
       "    rhov                    (phony_dim_4) float32 0.6 0.6 0.6 ... 0.6 0.6 0.6\n",
       "    rhov_error              (phony_dim_4) float32 nan nan nan ... nan nan nan\n",
       "    rossg                   (phony_dim_4) float32 0.5 0.5 0.5 ... 0.5 0.5 0.5\n",
       "    rv                      (phony_dim_4) float32 nan nan nan ... nan nan nan\n",
       "    rx_range_highestreturn  (phony_dim_4) float64 4.147e+05 ... 4.195e+05\n",
       "    rx_sample_count         (phony_dim_4) int64 4 4 4 4 4 4 4 ... 4 4 4 4 4 4 4\n",
       "    rx_sample_start_index   (phony_dim_4) int64 1 5 9 ... 8944119 8944123\n",
       "    selected_l2a_algorithm  (phony_dim_4) uint8 1 1 1 1 1 1 1 ... 1 1 1 1 1 1 1\n",
       "    selected_rg_algorithm   (phony_dim_4) uint8 0 0 0 0 0 0 0 ... 0 0 0 0 0 0 0\n",
       "    sensitivity             (phony_dim_4) float32 -23.674726 ... -2.002046\n",
       "    shot_number             (phony_dim_4) uint64 28220002300000001 ... 28220011900475621\n",
       "    stale_return_flag       (phony_dim_4) uint8 1 1 1 1 1 1 1 ... 1 1 1 1 1 1 1\n",
       "    surface_flag            (phony_dim_4) uint8 1 1 1 1 1 1 1 ... 0 0 0 0 0 0 0\n",
       "Attributes:\n",
       "    wp-l2-l2b_githash:  344b44a3adc93983cc84ade093020500f87fee00\n",
       "    wp-l2-l2b_version:  20191201.0.0\n",
       "    description:        Coverage beam"
      ]
     },
     "execution_count": 89,
     "metadata": {},
     "output_type": "execute_result"
    }
   ],
   "source": [
    "test_beam.sensitivity\n",
    "test_beam.fhd_normal\n",
    "test_beam.l2a_quality_flag\n",
    "test_beam.l2b_quality_flag\n",
    "test_beam.pai\n",
    "test_beam.pai_z\n",
    "test_beam.pavd_z\n",
    "test_beam.l2b_quality_flag"
   ]
  },
  {
   "cell_type": "code",
   "execution_count": 154,
   "metadata": {},
   "outputs": [
    {
     "ename": "SyntaxError",
     "evalue": "invalid syntax (<ipython-input-154-04dc661b0266>, line 2)",
     "output_type": "error",
     "traceback": [
      "\u001b[0;36m  File \u001b[0;32m\"<ipython-input-154-04dc661b0266>\"\u001b[0;36m, line \u001b[0;32m2\u001b[0m\n\u001b[0;31m    coords={'x': (['x', 'y'], lon_coords),\u001b[0m\n\u001b[0m          ^\u001b[0m\n\u001b[0;31mSyntaxError\u001b[0m\u001b[0;31m:\u001b[0m invalid syntax\n"
     ]
    }
   ],
   "source": [
    "ds = xr.Dataset({'pai_z': (['x', 'y', 'time', 'z'],  test_beam.pai_z),\n",
    "                 coords={'x': (['x', 'y'], lon_coords),\n",
    "                         'y': (['x', 'y'], lat_coords),\n",
    "                         'time': time_coords,\n",
    "                        \"z\": test_beam.phony_dim_5.values}})"
   ]
  },
  {
   "cell_type": "code",
   "execution_count": null,
   "metadata": {},
   "outputs": [],
   "source": []
  }
 ],
 "metadata": {
  "kernelspec": {
   "display_name": "Python 3",
   "language": "python",
   "name": "python3"
  },
  "language_info": {
   "codemirror_mode": {
    "name": "ipython",
    "version": 3
   },
   "file_extension": ".py",
   "mimetype": "text/x-python",
   "name": "python",
   "nbconvert_exporter": "python",
   "pygments_lexer": "ipython3",
   "version": "3.7.3"
  }
 },
 "nbformat": 4,
 "nbformat_minor": 4
}
