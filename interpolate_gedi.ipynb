{
 "cells": [
  {
   "cell_type": "markdown",
   "metadata": {},
   "source": [
    "Project Description\n",
    "\n",
    "Objective: Use the GEDI L2B product to classify the San Pedro Riparian National Conservation Area (SPRNCA) by Foliage Height Diversity (FHD). \n",
    "\n",
    "FHD is an important metric for estimating ecological diversity and habitat suitability. Bird species are particularly sensitive in their habitat selection to vertical structure characteristics and the SPRNCA is an internationally recognized habitat zone for migratory and wintering birds. Zones would be classified using unsupervised techniques such as Agglomerative Clustering or DBSCAN. Once regions are classified,  I can evaluate present day trends in water stress over the different FHD classes to evaluate if parts of the corridor that are well suited for sensitive species habitat are particularly susceptible to water stress. To measure water stress, I will use either the ECOSTRESS Evaporative Stress Index (ESI) or EEflux’s METRIC based ET product coupled with ERA5’s PET estimate, depending on data availability. The primary outputs of this project will be maps classifying SPRNCA by FHD and time series plots and maps of the ESI for each FHD class.\n",
    "\n",
    "The GEDI L2B product has an average spatial footprint of 25 meters and there are ~ 220 observations covering the SPRNCA corridor (I still need to determine how well this time series covers the SPRNCA). So this analysis would be limited to portions of the SPRNCA that have a riparian corridor wider than 25 meters. I also have near daily cloud masks from this area derived from Planet Labs imagery that I will use to filter the L2B and ESI products."
   ]
  },
  {
   "cell_type": "markdown",
   "metadata": {},
   "source": [
    "## Notes\n",
    "\n",
    "GEDI data come in groups, and xarray can only read one at a time.\n",
    "\n",
    "Quality FAQ with suggestions are here: https://lpdaac.usgs.gov/documents/589/GEDIL02_User_Guide_V1.pdf\n",
    "\n",
    "conda install pyinterp -c conda-forge possible option for interpolation as it supports unstructured grids, 3D\n",
    "\n",
    "this tweet has useful info on which beams use full power\n",
    "https://twitter.com/GEDI_Knights/status/1228203192803966990\n",
    "\n",
    "- BEAM0000 (ID 0) = Coverage\n",
    "- BEAM0001 (ID 1) = Coverage\n",
    "- BEAM0010 (ID 2) = Coverage\n",
    "- BEAM0011 (ID 3) = Coverage\n",
    "- BEAM0101 (ID 5) = Power\n",
    "- BEAM0110 (ID 6) = Power\n",
    "- BEAM1000 (ID 8) = Power\n",
    "- BEAM1011 (ID 11) = Power\n"
   ]
  },
  {
   "cell_type": "code",
   "execution_count": null,
   "metadata": {},
   "outputs": [],
   "source": []
  },
  {
   "cell_type": "code",
   "execution_count": null,
   "metadata": {},
   "outputs": [],
   "source": []
  },
  {
   "cell_type": "code",
   "execution_count": null,
   "metadata": {},
   "outputs": [],
   "source": [
    "import xarray as xr\n",
    "import rioxarray as rx\n",
    "import numpy as np\n",
    "from pathlib import Path"
   ]
  },
  {
   "cell_type": "code",
   "execution_count": null,
   "metadata": {},
   "outputs": [],
   "source": [
    "beam_groups = [\"/BEAM0000\", \"/BEAM1011\", \"/BEAM1000\", \"/BEAM0110\", \"/BEAM0101\", \"/BEAM0011\", \"/BEAM0010\", \"/BEAM0001\"]\n",
    "beam_sub_groups = [\"ancillary\", \"geolocation\", \"land_cover_data\", \"rx_processing\"]\n",
    "meta_group = \"METADATA/DatasetIdentification\""
   ]
  },
  {
   "cell_type": "code",
   "execution_count": null,
   "metadata": {},
   "outputs": [],
   "source": [
    "def open_beams(file_path, beam_groups = [\"/BEAM0000\", \"/BEAM1011\", \"/BEAM1000\", \"/BEAM0110\", \"/BEAM0101\", \"/BEAM0011\", \"/BEAM0010\", \"/BEAM0001\"]):\n",
    "    datasets = []\n",
    "    for beam in beam_groups:\n",
    "        print(beam)\n",
    "        # coord related values that need to be assigned to the dataset.\n",
    "        ds_geo = xr.open_dataset(file_path, group=f\"/{beam}/geolocation/\")\n",
    "        lat_coords = ds_geo.lat_highestreturn.values\n",
    "        lon_coords = ds_geo.lon_highestreturn.values\n",
    "        time_coords = ds_geo.delta_time.values\n",
    "        \n",
    "        # renaming and prooer meter units for z, vertical profile\n",
    "        dz = xr.open_dataset(file_path, group=f\"/{beam}/ancillary\").dz.values\n",
    "        ds = xr.open_dataset(file_path, group=beam)\n",
    "        dim_names = list(ds.dims)\n",
    "        ds = ds.rename({dim_names[1]:\"z\"}).drop_dims(dim_names[2]) # phony 6 only used for directional gap prob profile. \n",
    "        ds['z'] = ds.z * dz # make z have units in meters\n",
    "        \n",
    "        # assigning location and time coords to the variables depending on if they represent avg over profile or are taken along profile\n",
    "        ds = ds.rename({dim_names[0]:\"y\"})\n",
    "        ds['y'] = lat_coords\n",
    "        ds = ds.assign({\"x\":lon_coords, \"time\":time_coords})\n",
    "        \n",
    "        datasets.append(ds)\n",
    "    return datasets"
   ]
  },
  {
   "cell_type": "code",
   "execution_count": null,
   "metadata": {},
   "outputs": [],
   "source": [
    "xr.open_dataset(file_paths[0], group=\"/BEAM1011/geolocation\")"
   ]
  },
  {
   "cell_type": "code",
   "execution_count": null,
   "metadata": {},
   "outputs": [],
   "source": [
    "file_paths = list(Path(\"data\").glob(\"*.h5\"))"
   ]
  },
  {
   "cell_type": "code",
   "execution_count": null,
   "metadata": {},
   "outputs": [],
   "source": [
    "list(xr.open_dataset(file_paths[0], group=\"/BEAM1011\").dims)"
   ]
  },
  {
   "cell_type": "code",
   "execution_count": null,
   "metadata": {},
   "outputs": [],
   "source": [
    "open_beams(file_paths[0])"
   ]
  },
  {
   "cell_type": "code",
   "execution_count": null,
   "metadata": {},
   "outputs": [],
   "source": []
  },
  {
   "cell_type": "code",
   "execution_count": null,
   "metadata": {},
   "outputs": [],
   "source": []
  },
  {
   "cell_type": "code",
   "execution_count": null,
   "metadata": {},
   "outputs": [],
   "source": [
    "test_beam.sensitivity\n",
    "test_beam.fhd_normal\n",
    "test_beam.l2a_quality_flag\n",
    "test_beam.l2b_quality_flag\n",
    "test_beam.pai\n",
    "test_beam.pai_z\n",
    "test_beam.pavd_z\n",
    "test_beam.l2b_quality_flag"
   ]
  },
  {
   "cell_type": "code",
   "execution_count": null,
   "metadata": {},
   "outputs": [],
   "source": [
    "ds = xr.Dataset({'pai_z': (['x', 'y', 'time', 'z'],  test_beam.pai_z),\n",
    "                 coords={'x': (['x', 'y'], lon_coords),\n",
    "                         'y': (['x', 'y'], lat_coords),\n",
    "                         'time': time_coords,\n",
    "                        \"z\": test_beam.phony_dim_5.values}})"
   ]
  },
  {
   "cell_type": "code",
   "execution_count": null,
   "metadata": {},
   "outputs": [],
   "source": []
  }
 ],
 "metadata": {
  "kernelspec": {
   "display_name": "Python 3",
   "language": "python",
   "name": "python3"
  },
  "language_info": {
   "codemirror_mode": {
    "name": "ipython",
    "version": 3
   },
   "file_extension": ".py",
   "mimetype": "text/x-python",
   "name": "python",
   "nbconvert_exporter": "python",
   "pygments_lexer": "ipython3",
   "version": "3.7.3"
  }
 },
 "nbformat": 4,
 "nbformat_minor": 4
}
