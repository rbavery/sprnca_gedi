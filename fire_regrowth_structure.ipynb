{
 "cells": [
  {
   "cell_type": "code",
   "execution_count": 1,
   "metadata": {},
   "outputs": [],
   "source": [
    "import rioxarray as rx\n",
    "import geopandas as gpd\n",
    "from pathlib import Path\n",
    "import requests as r\n",
    "import pandas as pd\n",
    "\n",
    "data_path = Path(\"data-fire/imagery\")\n",
    "out_path = Path(\"data-fire/processed\")\n",
    "img_paths = list(data_path.glob(\"*.img\"))"
   ]
  },
  {
   "cell_type": "markdown",
   "metadata": {},
   "source": [
    "This throws out about 4 fires out of >45 that don't conform to the same filename type"
   ]
  },
  {
   "cell_type": "code",
   "execution_count": 2,
   "metadata": {},
   "outputs": [],
   "source": [
    "metadata = sorted([str(path.name).split(\"_\")[:-1] for path in img_paths if len(str(path).split(\"_\")) == 4]) # getting metadata from filenames\n",
    "df = pd.DataFrame(metadata, columns=['site', 'date', 'product'])\n",
    "df[\"datetime\"] = pd.to_datetime(df['date'])\n",
    "df.index = df['datetime']\n",
    "df = df.sort_index()"
   ]
  },
  {
   "cell_type": "code",
   "execution_count": 8,
   "metadata": {},
   "outputs": [
    {
     "data": {
      "text/html": [
       "<div>\n",
       "<style scoped>\n",
       "    .dataframe tbody tr th:only-of-type {\n",
       "        vertical-align: middle;\n",
       "    }\n",
       "\n",
       "    .dataframe tbody tr th {\n",
       "        vertical-align: top;\n",
       "    }\n",
       "\n",
       "    .dataframe thead th {\n",
       "        text-align: right;\n",
       "    }\n",
       "</style>\n",
       "<table border=\"1\" class=\"dataframe\">\n",
       "  <thead>\n",
       "    <tr style=\"text-align: right;\">\n",
       "      <th></th>\n",
       "      <th>site</th>\n",
       "      <th>date</th>\n",
       "      <th>product</th>\n",
       "      <th>datetime</th>\n",
       "    </tr>\n",
       "    <tr>\n",
       "      <th>datetime</th>\n",
       "      <th></th>\n",
       "      <th></th>\n",
       "      <th></th>\n",
       "      <th></th>\n",
       "    </tr>\n",
       "  </thead>\n",
       "  <tbody>\n",
       "    <tr>\n",
       "      <th>2002-06-08</th>\n",
       "      <td>wolf</td>\n",
       "      <td>20020608</td>\n",
       "      <td>30m</td>\n",
       "      <td>2002-06-08</td>\n",
       "    </tr>\n",
       "    <tr>\n",
       "      <th>2002-06-10</th>\n",
       "      <td>wolf</td>\n",
       "      <td>20020610</td>\n",
       "      <td>barc</td>\n",
       "      <td>2002-06-10</td>\n",
       "    </tr>\n",
       "    <tr>\n",
       "      <th>2002-08-27</th>\n",
       "      <td>mcnally</td>\n",
       "      <td>20020827</td>\n",
       "      <td>30m</td>\n",
       "      <td>2002-08-27</td>\n",
       "    </tr>\n",
       "    <tr>\n",
       "      <th>2003-09-19</th>\n",
       "      <td>deer</td>\n",
       "      <td>20030919</td>\n",
       "      <td>30m</td>\n",
       "      <td>2003-09-19</td>\n",
       "    </tr>\n",
       "    <tr>\n",
       "      <th>2003-09-19</th>\n",
       "      <td>grindstone</td>\n",
       "      <td>20030919</td>\n",
       "      <td>30m</td>\n",
       "      <td>2003-09-19</td>\n",
       "    </tr>\n",
       "    <tr>\n",
       "      <th>...</th>\n",
       "      <td>...</td>\n",
       "      <td>...</td>\n",
       "      <td>...</td>\n",
       "      <td>...</td>\n",
       "    </tr>\n",
       "    <tr>\n",
       "      <th>2010-10-12</th>\n",
       "      <td>sheep</td>\n",
       "      <td>20101012</td>\n",
       "      <td>barc4</td>\n",
       "      <td>2010-10-12</td>\n",
       "    </tr>\n",
       "    <tr>\n",
       "      <th>2011-08-19</th>\n",
       "      <td>lion</td>\n",
       "      <td>20110819</td>\n",
       "      <td>post</td>\n",
       "      <td>2011-08-19</td>\n",
       "    </tr>\n",
       "    <tr>\n",
       "      <th>2011-08-19</th>\n",
       "      <td>lion</td>\n",
       "      <td>20110819</td>\n",
       "      <td>dnbr</td>\n",
       "      <td>2011-08-19</td>\n",
       "    </tr>\n",
       "    <tr>\n",
       "      <th>2011-08-19</th>\n",
       "      <td>lion</td>\n",
       "      <td>20110819</td>\n",
       "      <td>barc4</td>\n",
       "      <td>2011-08-19</td>\n",
       "    </tr>\n",
       "    <tr>\n",
       "      <th>2011-08-19</th>\n",
       "      <td>lion</td>\n",
       "      <td>20110819</td>\n",
       "      <td>barc256</td>\n",
       "      <td>2011-08-19</td>\n",
       "    </tr>\n",
       "  </tbody>\n",
       "</table>\n",
       "<p>117 rows × 4 columns</p>\n",
       "</div>"
      ],
      "text/plain": [
       "                  site      date  product   datetime\n",
       "datetime                                            \n",
       "2002-06-08        wolf  20020608      30m 2002-06-08\n",
       "2002-06-10        wolf  20020610     barc 2002-06-10\n",
       "2002-08-27     mcnally  20020827      30m 2002-08-27\n",
       "2003-09-19        deer  20030919      30m 2003-09-19\n",
       "2003-09-19  grindstone  20030919      30m 2003-09-19\n",
       "...                ...       ...      ...        ...\n",
       "2010-10-12       sheep  20101012    barc4 2010-10-12\n",
       "2011-08-19        lion  20110819     post 2011-08-19\n",
       "2011-08-19        lion  20110819     dnbr 2011-08-19\n",
       "2011-08-19        lion  20110819    barc4 2011-08-19\n",
       "2011-08-19        lion  20110819  barc256 2011-08-19\n",
       "\n",
       "[117 rows x 4 columns]"
      ]
     },
     "execution_count": 8,
     "metadata": {},
     "output_type": "execute_result"
    }
   ],
   "source": [
    "df"
   ]
  },
  {
   "cell_type": "code",
   "execution_count": 9,
   "metadata": {},
   "outputs": [],
   "source": [
    "img_list = []\n",
    "for i in img_paths:\n",
    "    x = rx.open_rasterio(i)\n",
    "    x.name = i.name\n",
    "    img_list.append(x)"
   ]
  },
  {
   "cell_type": "code",
   "execution_count": null,
   "metadata": {},
   "outputs": [],
   "source": [
    "nlcd_2016 = rx.open_rasterio(data_path / \"external/\")"
   ]
  },
  {
   "cell_type": "markdown",
   "metadata": {},
   "source": [
    "Need to check the present day (2016 NLCD) land cover classes for each burned area to make sure it has forest coverage type. Use this filter for selection before downloading gEDI data and store the majority land cover class within the df. "
   ]
  },
  {
   "cell_type": "code",
   "execution_count": null,
   "metadata": {},
   "outputs": [],
   "source": [
    "for i in img_list:\n",
    "    i.rio.reproject(4326).rio.to_raster(str(out_path / Path(\"WGS84_\"+str(i.name))))"
   ]
  },
  {
   "cell_type": "code",
   "execution_count": null,
   "metadata": {},
   "outputs": [],
   "source": [
    "def bounds_request(bounds):\n",
    "    \"\"\"\n",
    "    Requests GEDI L2B data download links using the GEDI Finder service.\n",
    "    \n",
    "    https://lpdaacsvc.cr.usgs.gov/services/gedifinder\n",
    "    \n",
    "    Args:\n",
    "        bounds returned from rioxarray rAster Array.\n",
    "        It's unpacked to ul_lat,ul_lon,lr_lat,lr_lon\n",
    "    \"\"\"\n",
    "    ul_lon = bounds[0]\n",
    "    ul_lat = bounds[-1]\n",
    "    lr_lon = bounds[2]\n",
    "    lr_lat = bounds[1]\n",
    "    result = r.get(f\"https://lpdaacsvc.cr.usgs.gov/services/gedifinder?product=GEDI01_B&version=001&bbox=[{ul_lat},{ul_lon},{lr_lat},{lr_lon}]\")\n",
    "    print(result)\n",
    "    return result.json()['data']\n",
    "    "
   ]
  },
  {
   "cell_type": "code",
   "execution_count": 37,
   "metadata": {},
   "outputs": [],
   "source": []
  },
  {
   "cell_type": "code",
   "execution_count": 45,
   "metadata": {},
   "outputs": [
    {
     "name": "stdout",
     "output_type": "stream",
     "text": [
      "<Response [200]>\n"
     ]
    }
   ],
   "source": [
    "all_urls = []\n",
    "for i in img_list:\n",
    "    url_list = bounds_request(i.rio.bounds())\n",
    "    if len(url_list) > 0:\n",
    "        all_urls.extend(url_list)"
   ]
  },
  {
   "cell_type": "code",
   "execution_count": null,
   "metadata": {},
   "outputs": [],
   "source": []
  },
  {
   "cell_type": "code",
   "execution_count": 47,
   "metadata": {},
   "outputs": [],
   "source": [
    "with open(\"fire_gedi_url_list.txt\", 'w') as output:\n",
    "    for row in all_urls:\n",
    "        output.write(str(row) + '\\n')"
   ]
  },
  {
   "cell_type": "code",
   "execution_count": null,
   "metadata": {},
   "outputs": [],
   "source": []
  }
 ],
 "metadata": {
  "kernelspec": {
   "display_name": "Python [conda env:geospatial]",
   "language": "python",
   "name": "conda-env-geospatial-py"
  },
  "language_info": {
   "codemirror_mode": {
    "name": "ipython",
    "version": 3
   },
   "file_extension": ".py",
   "mimetype": "text/x-python",
   "name": "python",
   "nbconvert_exporter": "python",
   "pygments_lexer": "ipython3",
   "version": "3.6.7"
  }
 },
 "nbformat": 4,
 "nbformat_minor": 4
}
